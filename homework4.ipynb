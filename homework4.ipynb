{
 "cells": [
  {
   "cell_type": "markdown",
   "metadata": {},
   "source": [
    "# Задание 1\n",
    "Импортируйте библиотеки pandas, numpy и matplotlib.\n",
    "Загрузите \"Boston House Prices dataset\" из встроенных наборов \n",
    "данных библиотеки sklearn.\n",
    "Создайте датафреймы X и y из этих данных.\n",
    "Разбейте эти датафреймы на тренировочные (X_train, y_train) и тестовые (X_test, y_test)\n",
    "с помощью функции train_test_split так, чтобы размер тестовой выборки\n",
    "составлял 20% от всех данных, при этом аргумент random_state должен быть равен 42.\n",
    "Масштабируйте данные с помощью StandardScaler.\n",
    "Постройте модель TSNE на тренировочный данных с параметрами:\n",
    "n_components=2, learning_rate=250, random_state=42.\n",
    "Постройте диаграмму рассеяния на этих данных.\n"
   ]
  },
  {
   "cell_type": "code",
   "execution_count": 1,
   "metadata": {},
   "outputs": [],
   "source": [
    "import warnings\n",
    "\n",
    "warnings.filterwarnings('ignore')"
   ]
  },
  {
   "cell_type": "code",
   "execution_count": 2,
   "metadata": {},
   "outputs": [],
   "source": [
    "import numpy as np\n",
    "import pandas as pd\n",
    "import matplotlib.pyplot as plt\n",
    "\n",
    "from sklearn.datasets import load_boston"
   ]
  },
  {
   "cell_type": "code",
   "execution_count": 3,
   "metadata": {},
   "outputs": [],
   "source": [
    "boston = load_boston()"
   ]
  },
  {
   "cell_type": "code",
   "execution_count": 4,
   "metadata": {},
   "outputs": [],
   "source": [
    "feature_names = boston[\"feature_names\"]"
   ]
  },
  {
   "cell_type": "code",
   "execution_count": 5,
   "metadata": {},
   "outputs": [],
   "source": [
    "data = boston[\"data\"]"
   ]
  },
  {
   "cell_type": "code",
   "execution_count": 6,
   "metadata": {},
   "outputs": [],
   "source": [
    "X = pd.DataFrame(data, columns=feature_names)"
   ]
  },
  {
   "cell_type": "code",
   "execution_count": 7,
   "metadata": {},
   "outputs": [],
   "source": [
    "target = boston[\"target\"]"
   ]
  },
  {
   "cell_type": "code",
   "execution_count": 8,
   "metadata": {},
   "outputs": [],
   "source": [
    "y = pd.DataFrame(target, columns=[\"price\"])"
   ]
  },
  {
   "cell_type": "code",
   "execution_count": 9,
   "metadata": {},
   "outputs": [],
   "source": [
    "from sklearn.model_selection import train_test_split"
   ]
  },
  {
   "cell_type": "code",
   "execution_count": 10,
   "metadata": {},
   "outputs": [],
   "source": [
    "X_train, X_test, y_train, y_test = train_test_split(X, y, test_size=0.2, random_state=42)"
   ]
  },
  {
   "cell_type": "code",
   "execution_count": 11,
   "metadata": {},
   "outputs": [],
   "source": [
    "from sklearn.preprocessing import StandardScaler"
   ]
  },
  {
   "cell_type": "code",
   "execution_count": 12,
   "metadata": {},
   "outputs": [],
   "source": [
    "scaler = StandardScaler()"
   ]
  },
  {
   "cell_type": "code",
   "execution_count": 13,
   "metadata": {},
   "outputs": [],
   "source": [
    "X_train_scaled = pd.DataFrame(scaler.fit_transform(X_train), columns=X_train.columns)\n",
    "X_test_scaled = pd.DataFrame(scaler.transform(X_test), columns=X_test.columns)"
   ]
  },
  {
   "cell_type": "code",
   "execution_count": 14,
   "metadata": {},
   "outputs": [
    {
     "data": {
      "text/html": [
       "<div>\n",
       "<style scoped>\n",
       "    .dataframe tbody tr th:only-of-type {\n",
       "        vertical-align: middle;\n",
       "    }\n",
       "\n",
       "    .dataframe tbody tr th {\n",
       "        vertical-align: top;\n",
       "    }\n",
       "\n",
       "    .dataframe thead th {\n",
       "        text-align: right;\n",
       "    }\n",
       "</style>\n",
       "<table border=\"1\" class=\"dataframe\">\n",
       "  <thead>\n",
       "    <tr style=\"text-align: right;\">\n",
       "      <th></th>\n",
       "      <th>CRIM</th>\n",
       "      <th>ZN</th>\n",
       "      <th>INDUS</th>\n",
       "      <th>CHAS</th>\n",
       "      <th>NOX</th>\n",
       "      <th>RM</th>\n",
       "      <th>AGE</th>\n",
       "      <th>DIS</th>\n",
       "      <th>RAD</th>\n",
       "      <th>TAX</th>\n",
       "      <th>PTRATIO</th>\n",
       "      <th>B</th>\n",
       "      <th>LSTAT</th>\n",
       "    </tr>\n",
       "  </thead>\n",
       "  <tbody>\n",
       "    <tr>\n",
       "      <th>477</th>\n",
       "      <td>15.02340</td>\n",
       "      <td>0.0</td>\n",
       "      <td>18.10</td>\n",
       "      <td>0.0</td>\n",
       "      <td>0.6140</td>\n",
       "      <td>5.304</td>\n",
       "      <td>97.3</td>\n",
       "      <td>2.1007</td>\n",
       "      <td>24.0</td>\n",
       "      <td>666.0</td>\n",
       "      <td>20.2</td>\n",
       "      <td>349.48</td>\n",
       "      <td>24.91</td>\n",
       "    </tr>\n",
       "    <tr>\n",
       "      <th>15</th>\n",
       "      <td>0.62739</td>\n",
       "      <td>0.0</td>\n",
       "      <td>8.14</td>\n",
       "      <td>0.0</td>\n",
       "      <td>0.5380</td>\n",
       "      <td>5.834</td>\n",
       "      <td>56.5</td>\n",
       "      <td>4.4986</td>\n",
       "      <td>4.0</td>\n",
       "      <td>307.0</td>\n",
       "      <td>21.0</td>\n",
       "      <td>395.62</td>\n",
       "      <td>8.47</td>\n",
       "    </tr>\n",
       "    <tr>\n",
       "      <th>332</th>\n",
       "      <td>0.03466</td>\n",
       "      <td>35.0</td>\n",
       "      <td>6.06</td>\n",
       "      <td>0.0</td>\n",
       "      <td>0.4379</td>\n",
       "      <td>6.031</td>\n",
       "      <td>23.3</td>\n",
       "      <td>6.6407</td>\n",
       "      <td>1.0</td>\n",
       "      <td>304.0</td>\n",
       "      <td>16.9</td>\n",
       "      <td>362.25</td>\n",
       "      <td>7.83</td>\n",
       "    </tr>\n",
       "    <tr>\n",
       "      <th>423</th>\n",
       "      <td>7.05042</td>\n",
       "      <td>0.0</td>\n",
       "      <td>18.10</td>\n",
       "      <td>0.0</td>\n",
       "      <td>0.6140</td>\n",
       "      <td>6.103</td>\n",
       "      <td>85.1</td>\n",
       "      <td>2.0218</td>\n",
       "      <td>24.0</td>\n",
       "      <td>666.0</td>\n",
       "      <td>20.2</td>\n",
       "      <td>2.52</td>\n",
       "      <td>23.29</td>\n",
       "    </tr>\n",
       "    <tr>\n",
       "      <th>19</th>\n",
       "      <td>0.72580</td>\n",
       "      <td>0.0</td>\n",
       "      <td>8.14</td>\n",
       "      <td>0.0</td>\n",
       "      <td>0.5380</td>\n",
       "      <td>5.727</td>\n",
       "      <td>69.5</td>\n",
       "      <td>3.7965</td>\n",
       "      <td>4.0</td>\n",
       "      <td>307.0</td>\n",
       "      <td>21.0</td>\n",
       "      <td>390.95</td>\n",
       "      <td>11.28</td>\n",
       "    </tr>\n",
       "    <tr>\n",
       "      <th>325</th>\n",
       "      <td>0.19186</td>\n",
       "      <td>0.0</td>\n",
       "      <td>7.38</td>\n",
       "      <td>0.0</td>\n",
       "      <td>0.4930</td>\n",
       "      <td>6.431</td>\n",
       "      <td>14.7</td>\n",
       "      <td>5.4159</td>\n",
       "      <td>5.0</td>\n",
       "      <td>287.0</td>\n",
       "      <td>19.6</td>\n",
       "      <td>393.68</td>\n",
       "      <td>5.08</td>\n",
       "    </tr>\n",
       "    <tr>\n",
       "      <th>335</th>\n",
       "      <td>0.03961</td>\n",
       "      <td>0.0</td>\n",
       "      <td>5.19</td>\n",
       "      <td>0.0</td>\n",
       "      <td>0.5150</td>\n",
       "      <td>6.037</td>\n",
       "      <td>34.5</td>\n",
       "      <td>5.9853</td>\n",
       "      <td>5.0</td>\n",
       "      <td>224.0</td>\n",
       "      <td>20.2</td>\n",
       "      <td>396.90</td>\n",
       "      <td>8.01</td>\n",
       "    </tr>\n",
       "    <tr>\n",
       "      <th>56</th>\n",
       "      <td>0.02055</td>\n",
       "      <td>85.0</td>\n",
       "      <td>0.74</td>\n",
       "      <td>0.0</td>\n",
       "      <td>0.4100</td>\n",
       "      <td>6.383</td>\n",
       "      <td>35.7</td>\n",
       "      <td>9.1876</td>\n",
       "      <td>2.0</td>\n",
       "      <td>313.0</td>\n",
       "      <td>17.3</td>\n",
       "      <td>396.90</td>\n",
       "      <td>5.77</td>\n",
       "    </tr>\n",
       "    <tr>\n",
       "      <th>437</th>\n",
       "      <td>15.17720</td>\n",
       "      <td>0.0</td>\n",
       "      <td>18.10</td>\n",
       "      <td>0.0</td>\n",
       "      <td>0.7400</td>\n",
       "      <td>6.152</td>\n",
       "      <td>100.0</td>\n",
       "      <td>1.9142</td>\n",
       "      <td>24.0</td>\n",
       "      <td>666.0</td>\n",
       "      <td>20.2</td>\n",
       "      <td>9.32</td>\n",
       "      <td>26.45</td>\n",
       "    </tr>\n",
       "    <tr>\n",
       "      <th>409</th>\n",
       "      <td>14.43830</td>\n",
       "      <td>0.0</td>\n",
       "      <td>18.10</td>\n",
       "      <td>0.0</td>\n",
       "      <td>0.5970</td>\n",
       "      <td>6.852</td>\n",
       "      <td>100.0</td>\n",
       "      <td>1.4655</td>\n",
       "      <td>24.0</td>\n",
       "      <td>666.0</td>\n",
       "      <td>20.2</td>\n",
       "      <td>179.36</td>\n",
       "      <td>19.78</td>\n",
       "    </tr>\n",
       "  </tbody>\n",
       "</table>\n",
       "</div>"
      ],
      "text/plain": [
       "         CRIM    ZN  INDUS  CHAS     NOX     RM    AGE     DIS   RAD    TAX  \\\n",
       "477  15.02340   0.0  18.10   0.0  0.6140  5.304   97.3  2.1007  24.0  666.0   \n",
       "15    0.62739   0.0   8.14   0.0  0.5380  5.834   56.5  4.4986   4.0  307.0   \n",
       "332   0.03466  35.0   6.06   0.0  0.4379  6.031   23.3  6.6407   1.0  304.0   \n",
       "423   7.05042   0.0  18.10   0.0  0.6140  6.103   85.1  2.0218  24.0  666.0   \n",
       "19    0.72580   0.0   8.14   0.0  0.5380  5.727   69.5  3.7965   4.0  307.0   \n",
       "325   0.19186   0.0   7.38   0.0  0.4930  6.431   14.7  5.4159   5.0  287.0   \n",
       "335   0.03961   0.0   5.19   0.0  0.5150  6.037   34.5  5.9853   5.0  224.0   \n",
       "56    0.02055  85.0   0.74   0.0  0.4100  6.383   35.7  9.1876   2.0  313.0   \n",
       "437  15.17720   0.0  18.10   0.0  0.7400  6.152  100.0  1.9142  24.0  666.0   \n",
       "409  14.43830   0.0  18.10   0.0  0.5970  6.852  100.0  1.4655  24.0  666.0   \n",
       "\n",
       "     PTRATIO       B  LSTAT  \n",
       "477     20.2  349.48  24.91  \n",
       "15      21.0  395.62   8.47  \n",
       "332     16.9  362.25   7.83  \n",
       "423     20.2    2.52  23.29  \n",
       "19      21.0  390.95  11.28  \n",
       "325     19.6  393.68   5.08  \n",
       "335     20.2  396.90   8.01  \n",
       "56      17.3  396.90   5.77  \n",
       "437     20.2    9.32  26.45  \n",
       "409     20.2  179.36  19.78  "
      ]
     },
     "execution_count": 14,
     "metadata": {},
     "output_type": "execute_result"
    }
   ],
   "source": [
    "X_train.head(10)"
   ]
  },
  {
   "cell_type": "code",
   "execution_count": 15,
   "metadata": {},
   "outputs": [
    {
     "data": {
      "text/html": [
       "<div>\n",
       "<style scoped>\n",
       "    .dataframe tbody tr th:only-of-type {\n",
       "        vertical-align: middle;\n",
       "    }\n",
       "\n",
       "    .dataframe tbody tr th {\n",
       "        vertical-align: top;\n",
       "    }\n",
       "\n",
       "    .dataframe thead th {\n",
       "        text-align: right;\n",
       "    }\n",
       "</style>\n",
       "<table border=\"1\" class=\"dataframe\">\n",
       "  <thead>\n",
       "    <tr style=\"text-align: right;\">\n",
       "      <th></th>\n",
       "      <th>CRIM</th>\n",
       "      <th>ZN</th>\n",
       "      <th>INDUS</th>\n",
       "      <th>CHAS</th>\n",
       "      <th>NOX</th>\n",
       "      <th>RM</th>\n",
       "      <th>AGE</th>\n",
       "      <th>DIS</th>\n",
       "      <th>RAD</th>\n",
       "      <th>TAX</th>\n",
       "      <th>PTRATIO</th>\n",
       "      <th>B</th>\n",
       "      <th>LSTAT</th>\n",
       "    </tr>\n",
       "  </thead>\n",
       "  <tbody>\n",
       "    <tr>\n",
       "      <th>0</th>\n",
       "      <td>1.287702</td>\n",
       "      <td>-0.500320</td>\n",
       "      <td>1.033237</td>\n",
       "      <td>-0.278089</td>\n",
       "      <td>0.489252</td>\n",
       "      <td>-1.428069</td>\n",
       "      <td>1.028015</td>\n",
       "      <td>-0.802173</td>\n",
       "      <td>1.706891</td>\n",
       "      <td>1.578434</td>\n",
       "      <td>0.845343</td>\n",
       "      <td>-0.074337</td>\n",
       "      <td>1.753505</td>\n",
       "    </tr>\n",
       "    <tr>\n",
       "      <th>1</th>\n",
       "      <td>-0.336384</td>\n",
       "      <td>-0.500320</td>\n",
       "      <td>-0.413160</td>\n",
       "      <td>-0.278089</td>\n",
       "      <td>-0.157233</td>\n",
       "      <td>-0.680087</td>\n",
       "      <td>-0.431199</td>\n",
       "      <td>0.324349</td>\n",
       "      <td>-0.624360</td>\n",
       "      <td>-0.584648</td>\n",
       "      <td>1.204741</td>\n",
       "      <td>0.430184</td>\n",
       "      <td>-0.561474</td>\n",
       "    </tr>\n",
       "    <tr>\n",
       "      <th>2</th>\n",
       "      <td>-0.403253</td>\n",
       "      <td>1.013271</td>\n",
       "      <td>-0.715218</td>\n",
       "      <td>-0.278089</td>\n",
       "      <td>-1.008723</td>\n",
       "      <td>-0.402063</td>\n",
       "      <td>-1.618599</td>\n",
       "      <td>1.330697</td>\n",
       "      <td>-0.974048</td>\n",
       "      <td>-0.602724</td>\n",
       "      <td>-0.637176</td>\n",
       "      <td>0.065297</td>\n",
       "      <td>-0.651595</td>\n",
       "    </tr>\n",
       "    <tr>\n",
       "      <th>3</th>\n",
       "      <td>0.388230</td>\n",
       "      <td>-0.500320</td>\n",
       "      <td>1.033237</td>\n",
       "      <td>-0.278089</td>\n",
       "      <td>0.489252</td>\n",
       "      <td>-0.300450</td>\n",
       "      <td>0.591681</td>\n",
       "      <td>-0.839240</td>\n",
       "      <td>1.706891</td>\n",
       "      <td>1.578434</td>\n",
       "      <td>0.845343</td>\n",
       "      <td>-3.868193</td>\n",
       "      <td>1.525387</td>\n",
       "    </tr>\n",
       "    <tr>\n",
       "      <th>4</th>\n",
       "      <td>-0.325282</td>\n",
       "      <td>-0.500320</td>\n",
       "      <td>-0.413160</td>\n",
       "      <td>-0.278089</td>\n",
       "      <td>-0.157233</td>\n",
       "      <td>-0.831094</td>\n",
       "      <td>0.033747</td>\n",
       "      <td>-0.005494</td>\n",
       "      <td>-0.624360</td>\n",
       "      <td>-0.584648</td>\n",
       "      <td>1.204741</td>\n",
       "      <td>0.379119</td>\n",
       "      <td>-0.165787</td>\n",
       "    </tr>\n",
       "    <tr>\n",
       "      <th>5</th>\n",
       "      <td>-0.385519</td>\n",
       "      <td>-0.500320</td>\n",
       "      <td>-0.523527</td>\n",
       "      <td>-0.278089</td>\n",
       "      <td>-0.540021</td>\n",
       "      <td>0.162452</td>\n",
       "      <td>-1.926178</td>\n",
       "      <td>0.755292</td>\n",
       "      <td>-0.507797</td>\n",
       "      <td>-0.705154</td>\n",
       "      <td>0.575794</td>\n",
       "      <td>0.408971</td>\n",
       "      <td>-1.038833</td>\n",
       "    </tr>\n",
       "    <tr>\n",
       "      <th>6</th>\n",
       "      <td>-0.402695</td>\n",
       "      <td>-0.500320</td>\n",
       "      <td>-0.841560</td>\n",
       "      <td>-0.278089</td>\n",
       "      <td>-0.352880</td>\n",
       "      <td>-0.393595</td>\n",
       "      <td>-1.218030</td>\n",
       "      <td>1.022793</td>\n",
       "      <td>-0.507797</td>\n",
       "      <td>-1.084748</td>\n",
       "      <td>0.845343</td>\n",
       "      <td>0.444180</td>\n",
       "      <td>-0.626249</td>\n",
       "    </tr>\n",
       "    <tr>\n",
       "      <th>7</th>\n",
       "      <td>-0.404845</td>\n",
       "      <td>3.175545</td>\n",
       "      <td>-1.487791</td>\n",
       "      <td>-0.278089</td>\n",
       "      <td>-1.246051</td>\n",
       "      <td>0.094710</td>\n",
       "      <td>-1.175112</td>\n",
       "      <td>2.527219</td>\n",
       "      <td>-0.857485</td>\n",
       "      <td>-0.548496</td>\n",
       "      <td>-0.457477</td>\n",
       "      <td>0.444180</td>\n",
       "      <td>-0.941672</td>\n",
       "    </tr>\n",
       "    <tr>\n",
       "      <th>8</th>\n",
       "      <td>1.305053</td>\n",
       "      <td>-0.500320</td>\n",
       "      <td>1.033237</td>\n",
       "      <td>-0.278089</td>\n",
       "      <td>1.561057</td>\n",
       "      <td>-0.231297</td>\n",
       "      <td>1.124581</td>\n",
       "      <td>-0.889790</td>\n",
       "      <td>1.706891</td>\n",
       "      <td>1.578434</td>\n",
       "      <td>0.845343</td>\n",
       "      <td>-3.793837</td>\n",
       "      <td>1.970358</td>\n",
       "    </tr>\n",
       "    <tr>\n",
       "      <th>9</th>\n",
       "      <td>1.221694</td>\n",
       "      <td>-0.500320</td>\n",
       "      <td>1.033237</td>\n",
       "      <td>-0.278089</td>\n",
       "      <td>0.344643</td>\n",
       "      <td>0.756603</td>\n",
       "      <td>1.124581</td>\n",
       "      <td>-1.100587</td>\n",
       "      <td>1.706891</td>\n",
       "      <td>1.578434</td>\n",
       "      <td>0.845343</td>\n",
       "      <td>-1.934525</td>\n",
       "      <td>1.031130</td>\n",
       "    </tr>\n",
       "  </tbody>\n",
       "</table>\n",
       "</div>"
      ],
      "text/plain": [
       "       CRIM        ZN     INDUS      CHAS       NOX        RM       AGE  \\\n",
       "0  1.287702 -0.500320  1.033237 -0.278089  0.489252 -1.428069  1.028015   \n",
       "1 -0.336384 -0.500320 -0.413160 -0.278089 -0.157233 -0.680087 -0.431199   \n",
       "2 -0.403253  1.013271 -0.715218 -0.278089 -1.008723 -0.402063 -1.618599   \n",
       "3  0.388230 -0.500320  1.033237 -0.278089  0.489252 -0.300450  0.591681   \n",
       "4 -0.325282 -0.500320 -0.413160 -0.278089 -0.157233 -0.831094  0.033747   \n",
       "5 -0.385519 -0.500320 -0.523527 -0.278089 -0.540021  0.162452 -1.926178   \n",
       "6 -0.402695 -0.500320 -0.841560 -0.278089 -0.352880 -0.393595 -1.218030   \n",
       "7 -0.404845  3.175545 -1.487791 -0.278089 -1.246051  0.094710 -1.175112   \n",
       "8  1.305053 -0.500320  1.033237 -0.278089  1.561057 -0.231297  1.124581   \n",
       "9  1.221694 -0.500320  1.033237 -0.278089  0.344643  0.756603  1.124581   \n",
       "\n",
       "        DIS       RAD       TAX   PTRATIO         B     LSTAT  \n",
       "0 -0.802173  1.706891  1.578434  0.845343 -0.074337  1.753505  \n",
       "1  0.324349 -0.624360 -0.584648  1.204741  0.430184 -0.561474  \n",
       "2  1.330697 -0.974048 -0.602724 -0.637176  0.065297 -0.651595  \n",
       "3 -0.839240  1.706891  1.578434  0.845343 -3.868193  1.525387  \n",
       "4 -0.005494 -0.624360 -0.584648  1.204741  0.379119 -0.165787  \n",
       "5  0.755292 -0.507797 -0.705154  0.575794  0.408971 -1.038833  \n",
       "6  1.022793 -0.507797 -1.084748  0.845343  0.444180 -0.626249  \n",
       "7  2.527219 -0.857485 -0.548496 -0.457477  0.444180 -0.941672  \n",
       "8 -0.889790  1.706891  1.578434  0.845343 -3.793837  1.970358  \n",
       "9 -1.100587  1.706891  1.578434  0.845343 -1.934525  1.031130  "
      ]
     },
     "execution_count": 15,
     "metadata": {},
     "output_type": "execute_result"
    }
   ],
   "source": [
    "X_train_scaled.head(10)"
   ]
  },
  {
   "cell_type": "code",
   "execution_count": 16,
   "metadata": {},
   "outputs": [],
   "source": [
    "from sklearn.manifold import TSNE"
   ]
  },
  {
   "cell_type": "code",
   "execution_count": 17,
   "metadata": {},
   "outputs": [],
   "source": [
    "tsne = TSNE(n_components=2, learning_rate=250, random_state=42)"
   ]
  },
  {
   "cell_type": "code",
   "execution_count": 18,
   "metadata": {},
   "outputs": [],
   "source": [
    "X_train_tsne = tsne.fit_transform(X_train_scaled)"
   ]
  },
  {
   "cell_type": "code",
   "execution_count": 19,
   "metadata": {},
   "outputs": [],
   "source": [
    "plt.style.use('fivethirtyeight')"
   ]
  },
  {
   "cell_type": "code",
   "execution_count": 20,
   "metadata": {},
   "outputs": [
    {
     "data": {
      "image/png": "[encoded data removed]",
      "text/plain": [
       "<Figure size 432x288 with 1 Axes>"
      ]
     },
     "metadata": {},
     "output_type": "display_data"
    }
   ],
   "source": [
    "plt.scatter(X_train_tsne[:, 0], X_train_tsne[:, 1])\n",
    "plt.show()"
   ]
  },
  {
   "cell_type": "markdown",
   "metadata": {},
   "source": [
    "# Задание 2\n",
    "С помощью KMeans разбейте данные из тренировочного набора на 3 кластера,\n",
    "используйте все признаки из датафрейма X_train.\n",
    "Параметр max_iter должен быть равен 100, random_state сделайте равным 42.\n",
    "Постройте еще раз диаграмму рассеяния на данных, полученных с помощью TSNE,\n",
    "и раскрасьте точки из разных кластеров разными цветами.\n",
    "Вычислите средние значения price и CRIM в разных кластерах.\n"
   ]
  },
  {
   "cell_type": "code",
   "execution_count": 21,
   "metadata": {},
   "outputs": [
    {
     "data": {
      "image/png": "[encoded data removed]",
      "text/plain": [
       "<Figure size 432x288 with 1 Axes>"
      ]
     },
     "metadata": {},
     "output_type": "display_data"
    }
   ],
   "source": [
    "from sklearn.cluster import KMeans\n",
    "kmeans = KMeans(n_clusters = 3, max_iter = 100, random_state = 42)\n",
    "labels_train = kmeans.fit_predict(X_train_scaled)\n",
    "plt.scatter(X_train_tsne[:, 0], X_train_tsne[:, 1], c=labels_train)\n",
    "plt.show()"
   ]
  },
  {
   "cell_type": "code",
   "execution_count": 22,
   "metadata": {},
   "outputs": [
    {
     "name": "stdout",
     "output_type": "stream",
     "text": [
      "price    24.958115\n",
      "dtype: float64\n",
      "price    16.165354\n",
      "dtype: float64\n",
      "price    27.788372\n",
      "dtype: float64\n"
     ]
    }
   ],
   "source": [
    "for i in range(0, 3):\n",
    "    print(y_train[labels_train == i].mean())"
   ]
  },
  {
   "cell_type": "code",
   "execution_count": 23,
   "metadata": {},
   "outputs": [
    {
     "name": "stdout",
     "output_type": "stream",
     "text": [
      "0.42166020942408367\n",
      "10.797028425196853\n",
      "0.07356558139534886\n"
     ]
    }
   ],
   "source": [
    "for i in range(0, 3):\n",
    "    print(X_train.loc[labels_train == i, 'CRIM'].mean())"
   ]
  },
  {
   "cell_type": "markdown",
   "metadata": {},
   "source": [
    "# *Задание 3\n",
    "Примените модель KMeans, построенную в предыдущем задании,\n",
    "к данным из тестового набора.\n",
    "Вычислите средние значения price и CRIM в разных кластерах на тестовых данных."
   ]
  },
  {
   "cell_type": "code",
   "execution_count": 30,
   "metadata": {},
   "outputs": [],
   "source": [
    "scaler = StandardScaler()\n",
    "X_train_scaled = pd.DataFrame(scaler.fit_transform(X_train), columns=X_train.columns)\n",
    "X_test_scaled = pd.DataFrame(scaler.transform(X_test), columns=X_test.columns)"
   ]
  },
  {
   "cell_type": "code",
   "execution_count": 31,
   "metadata": {},
   "outputs": [],
   "source": [
    "X_test_tsne = tsne.fit_transform(X_test_scaled)"
   ]
  },
  {
   "cell_type": "code",
   "execution_count": 33,
   "metadata": {},
   "outputs": [
    {
     "data": {
      "image/png": "[encoded data removed]",
      "text/plain": [
       "<Figure size 432x288 with 1 Axes>"
      ]
     },
     "metadata": {},
     "output_type": "display_data"
    }
   ],
   "source": [
    "labels_test = kmeans.fit_predict(X_test_scaled)\n",
    "plt.scatter(X_test_tsne[:, 0], X_test_tsne[:, 1], c=labels_test)\n",
    "plt.show()"
   ]
  },
  {
   "cell_type": "code",
   "execution_count": 35,
   "metadata": {},
   "outputs": [
    {
     "name": "stdout",
     "output_type": "stream",
     "text": [
      "9.419181842105264\n",
      "0.21929690909090907\n",
      "0.04070333333333334\n"
     ]
    }
   ],
   "source": [
    "for i in range(0, 3):\n",
    "    print(X_test['CRIM'][labels_test == i].mean())"
   ]
  },
  {
   "cell_type": "code",
   "execution_count": null,
   "metadata": {},
   "outputs": [],
   "source": []
  }
 ],
 "metadata": {
  "kernelspec": {
   "display_name": "Python 3",
   "language": "python",
   "name": "python3"
  },
  "language_info": {
   "codemirror_mode": {
    "name": "ipython",
    "version": 3
   },
   "file_extension": ".py",
   "mimetype": "text/x-python",
   "name": "python",
   "nbconvert_exporter": "python",
   "pygments_lexer": "ipython3",
   "version": "3.8.5"
  }
 },
 "nbformat": 4,
 "nbformat_minor": 4
}
